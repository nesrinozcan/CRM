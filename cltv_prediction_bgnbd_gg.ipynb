{
 "cells": [
  {
   "cell_type": "markdown",
   "id": "215babff-9beb-4607-ac72-1842afd694c7",
   "metadata": {},
   "source": [
    "# Customer Lifetime Value(CLTV) Prediction Using BG/NBD and Gamma Gamma Models in Python"
   ]
  },
  {
   "cell_type": "markdown",
   "id": "b9cad53a-6da6-4d9d-900c-60a14144f45a",
   "metadata": {},
   "source": [
    "Customer Lifetime Value(CLTV) is an important metric in marketing. CLTV is the predicted total amount of money a customer is expected to spend on your products. It gives your company a sensible view of the financial value provided by your customers. CLTV can be used as a KPI and as a loyalty measure. CLTV can be calculated based on the existing situation of your customers. You can also predict CLTV for the selected time periods in the future. For CLTV prediction, either statistical models or deep learning models can be used. I will use statistical models like BG/NBD and Gamma Gamma in this project. As a main package I will be using Python-lifetimes package. Firstly I will upload the necessary libraries and then read the data.csv file. \n",
    "\n",
    "It is a kaggle dataset in th link : https://www.kaggle.com/datasets/carrie1/ecommerce-data?datasetId=1985&sortBy=voteCount "
   ]
  },
  {
   "cell_type": "code",
   "execution_count": 1,
   "id": "5e2b4a4f-1afb-4604-abfc-9fa71894d9f8",
   "metadata": {
    "slideshow": {
     "slide_type": "slide"
    },
    "tags": []
   },
   "outputs": [],
   "source": [
    "import datetime as dt\n",
    "import pandas as pd\n",
    "import numpy as np\n",
    "import matplotlib.pyplot as plt\n",
    "from lifetimes import BetaGeoFitter\n",
    "from lifetimes import GammaGammaFitter\n",
    "from lifetimes.plotting import plot_period_transactions\n",
    "from lifetimes.utils import summary_data_from_transaction_data\n",
    "pd.set_option('display.max_columns', None)\n",
    "pd.set_option('display.max_rows', None)\n",
    "pd.set_option('display.width', 500)\n",
    "pd.set_option('display.float_format', lambda x: '%.2f' % x)\n",
    "import seaborn as sns"
   ]
  },
  {
   "cell_type": "markdown",
   "id": "4d8c7a5a-f6ef-4a30-b6c8-2daa3633e7bb",
   "metadata": {},
   "source": [
    "## Data Preprocessing"
   ]
  },
  {
   "cell_type": "code",
   "execution_count": 2,
   "id": "a3c69bec-aaf8-43b0-bfec-802edb9e2c1a",
   "metadata": {},
   "outputs": [
    {
     "data": {
      "text/plain": [
       "InvoiceNo           0\n",
       "StockCode           0\n",
       "Description      1454\n",
       "Quantity            0\n",
       "InvoiceDate         0\n",
       "UnitPrice           0\n",
       "CustomerID     135080\n",
       "Country             0\n",
       "dtype: int64"
      ]
     },
     "execution_count": 2,
     "metadata": {},
     "output_type": "execute_result"
    }
   ],
   "source": [
    "df = pd.read_csv('data.csv', encoding= 'unicode_escape')\n",
    "df.isna().sum()"
   ]
  },
  {
   "cell_type": "code",
   "execution_count": 3,
   "id": "e8a26fec-8936-40c0-896e-f7acce72ddf9",
   "metadata": {},
   "outputs": [
    {
     "data": {
      "text/html": [
       "<div>\n",
       "<style scoped>\n",
       "    .dataframe tbody tr th:only-of-type {\n",
       "        vertical-align: middle;\n",
       "    }\n",
       "\n",
       "    .dataframe tbody tr th {\n",
       "        vertical-align: top;\n",
       "    }\n",
       "\n",
       "    .dataframe thead th {\n",
       "        text-align: right;\n",
       "    }\n",
       "</style>\n",
       "<table border=\"1\" class=\"dataframe\">\n",
       "  <thead>\n",
       "    <tr style=\"text-align: right;\">\n",
       "      <th></th>\n",
       "      <th>InvoiceNo</th>\n",
       "      <th>StockCode</th>\n",
       "      <th>Description</th>\n",
       "      <th>Quantity</th>\n",
       "      <th>InvoiceDate</th>\n",
       "      <th>UnitPrice</th>\n",
       "      <th>CustomerID</th>\n",
       "      <th>Country</th>\n",
       "    </tr>\n",
       "  </thead>\n",
       "  <tbody>\n",
       "    <tr>\n",
       "      <th>531971</th>\n",
       "      <td>580981</td>\n",
       "      <td>20726</td>\n",
       "      <td>LUNCH BAG WOODLAND</td>\n",
       "      <td>10</td>\n",
       "      <td>12/6/2011 16:02</td>\n",
       "      <td>1.65</td>\n",
       "      <td>16201.00</td>\n",
       "      <td>United Kingdom</td>\n",
       "    </tr>\n",
       "    <tr>\n",
       "      <th>520947</th>\n",
       "      <td>580305</td>\n",
       "      <td>22973</td>\n",
       "      <td>CHILDREN'S CIRCUS PARADE MUG</td>\n",
       "      <td>1</td>\n",
       "      <td>12/2/2011 14:26</td>\n",
       "      <td>1.65</td>\n",
       "      <td>12970.00</td>\n",
       "      <td>United Kingdom</td>\n",
       "    </tr>\n",
       "    <tr>\n",
       "      <th>448378</th>\n",
       "      <td>575051</td>\n",
       "      <td>22071</td>\n",
       "      <td>SMALL WHITE RETROSPOT MUG IN BOX</td>\n",
       "      <td>2</td>\n",
       "      <td>11/8/2011 12:14</td>\n",
       "      <td>3.75</td>\n",
       "      <td>15957.00</td>\n",
       "      <td>United Kingdom</td>\n",
       "    </tr>\n",
       "    <tr>\n",
       "      <th>102430</th>\n",
       "      <td>545020</td>\n",
       "      <td>22697</td>\n",
       "      <td>GREEN REGENCY TEACUP AND SAUCER</td>\n",
       "      <td>6</td>\n",
       "      <td>2/25/2011 14:03</td>\n",
       "      <td>2.95</td>\n",
       "      <td>13792.00</td>\n",
       "      <td>United Kingdom</td>\n",
       "    </tr>\n",
       "    <tr>\n",
       "      <th>498917</th>\n",
       "      <td>578544</td>\n",
       "      <td>22114</td>\n",
       "      <td>HOT WATER BOTTLE TEA AND SYMPATHY</td>\n",
       "      <td>4</td>\n",
       "      <td>11/24/2011 15:01</td>\n",
       "      <td>4.25</td>\n",
       "      <td>17096.00</td>\n",
       "      <td>United Kingdom</td>\n",
       "    </tr>\n",
       "  </tbody>\n",
       "</table>\n",
       "</div>"
      ],
      "text/plain": [
       "       InvoiceNo StockCode                        Description  Quantity       InvoiceDate  UnitPrice  CustomerID         Country\n",
       "531971    580981     20726                 LUNCH BAG WOODLAND        10   12/6/2011 16:02       1.65    16201.00  United Kingdom\n",
       "520947    580305     22973       CHILDREN'S CIRCUS PARADE MUG         1   12/2/2011 14:26       1.65    12970.00  United Kingdom\n",
       "448378    575051     22071  SMALL WHITE RETROSPOT MUG IN BOX          2   11/8/2011 12:14       3.75    15957.00  United Kingdom\n",
       "102430    545020     22697    GREEN REGENCY TEACUP AND SAUCER         6   2/25/2011 14:03       2.95    13792.00  United Kingdom\n",
       "498917    578544     22114  HOT WATER BOTTLE TEA AND SYMPATHY         4  11/24/2011 15:01       4.25    17096.00  United Kingdom"
      ]
     },
     "execution_count": 3,
     "metadata": {},
     "output_type": "execute_result"
    }
   ],
   "source": [
    "df.sample(5)"
   ]
  },
  {
   "cell_type": "markdown",
   "id": "3734d521-2780-492d-b48a-89bf2317f9c7",
   "metadata": {},
   "source": [
    "When I look at null values, Description and CustomerID features has many. I will not use the Description feature so it is not important. But I will calculate CLTV specific to CustomerIDs so null values in this feature in meaningless. I will drop the null rows from the dataset. "
   ]
  },
  {
   "cell_type": "code",
   "execution_count": 4,
   "id": "3dc51b27-26aa-4bc7-8d72-92f15b9fac41",
   "metadata": {},
   "outputs": [],
   "source": [
    "df.columns = [\"INVOICE_ID\", \"STOCK_ID\", \"DESCRIPTION\",\"AMOUNT\", \"INVOICE_DATE\",\"PRICE\",\"COMPANY_ID\",\"COUNTRY\"]\n",
    "df =df[[\"INVOICE_ID\", \"STOCK_ID\",\"AMOUNT\", \"INVOICE_DATE\",\"PRICE\",\"COMPANY_ID\"]]"
   ]
  },
  {
   "cell_type": "code",
   "execution_count": 5,
   "id": "9a8ce5df-cdd4-49bd-bb80-c448164351fd",
   "metadata": {},
   "outputs": [
    {
     "name": "stdout",
     "output_type": "stream",
     "text": [
      "<class 'pandas.core.frame.DataFrame'>\n",
      "Int64Index: 406829 entries, 0 to 541908\n",
      "Data columns (total 6 columns):\n",
      " #   Column        Non-Null Count   Dtype  \n",
      "---  ------        --------------   -----  \n",
      " 0   INVOICE_ID    406829 non-null  object \n",
      " 1   STOCK_ID      406829 non-null  object \n",
      " 2   AMOUNT        406829 non-null  int64  \n",
      " 3   INVOICE_DATE  406829 non-null  object \n",
      " 4   PRICE         406829 non-null  float64\n",
      " 5   COMPANY_ID    406829 non-null  float64\n",
      "dtypes: float64(2), int64(1), object(3)\n",
      "memory usage: 21.7+ MB\n"
     ]
    }
   ],
   "source": [
    "df.dropna(inplace=True)\n",
    "df.info()"
   ]
  },
  {
   "cell_type": "code",
   "execution_count": 6,
   "id": "18cc244e-7f3b-4dcf-b30f-ddd004c27ded",
   "metadata": {},
   "outputs": [
    {
     "data": {
      "text/html": [
       "<div>\n",
       "<style scoped>\n",
       "    .dataframe tbody tr th:only-of-type {\n",
       "        vertical-align: middle;\n",
       "    }\n",
       "\n",
       "    .dataframe tbody tr th {\n",
       "        vertical-align: top;\n",
       "    }\n",
       "\n",
       "    .dataframe thead th {\n",
       "        text-align: right;\n",
       "    }\n",
       "</style>\n",
       "<table border=\"1\" class=\"dataframe\">\n",
       "  <thead>\n",
       "    <tr style=\"text-align: right;\">\n",
       "      <th></th>\n",
       "      <th>count</th>\n",
       "      <th>mean</th>\n",
       "      <th>std</th>\n",
       "      <th>min</th>\n",
       "      <th>25%</th>\n",
       "      <th>50%</th>\n",
       "      <th>75%</th>\n",
       "      <th>max</th>\n",
       "    </tr>\n",
       "  </thead>\n",
       "  <tbody>\n",
       "    <tr>\n",
       "      <th>PRICE</th>\n",
       "      <td>406829.00</td>\n",
       "      <td>3.46</td>\n",
       "      <td>69.32</td>\n",
       "      <td>0.00</td>\n",
       "      <td>1.25</td>\n",
       "      <td>1.95</td>\n",
       "      <td>3.75</td>\n",
       "      <td>38970.00</td>\n",
       "    </tr>\n",
       "    <tr>\n",
       "      <th>AMOUNT</th>\n",
       "      <td>406829.00</td>\n",
       "      <td>12.06</td>\n",
       "      <td>248.69</td>\n",
       "      <td>-80995.00</td>\n",
       "      <td>2.00</td>\n",
       "      <td>5.00</td>\n",
       "      <td>12.00</td>\n",
       "      <td>80995.00</td>\n",
       "    </tr>\n",
       "  </tbody>\n",
       "</table>\n",
       "</div>"
      ],
      "text/plain": [
       "           count  mean    std       min  25%  50%   75%      max\n",
       "PRICE  406829.00  3.46  69.32      0.00 1.25 1.95  3.75 38970.00\n",
       "AMOUNT 406829.00 12.06 248.69 -80995.00 2.00 5.00 12.00 80995.00"
      ]
     },
     "execution_count": 6,
     "metadata": {},
     "output_type": "execute_result"
    }
   ],
   "source": [
    "df[[\"PRICE\",\"AMOUNT\"]].describe().T"
   ]
  },
  {
   "cell_type": "markdown",
   "id": "0687786a-8081-4c60-b071-d335c0bda691",
   "metadata": {},
   "source": [
    "Invoice Date feature has object data type, so I will change it into datetime. Amount and Price values also have to be positive."
   ]
  },
  {
   "cell_type": "code",
   "execution_count": 7,
   "id": "abd36013-6c26-46fa-a4ee-f07bf6ce4aa0",
   "metadata": {},
   "outputs": [],
   "source": [
    "df[\"INVOICE_DATE\"] = pd.to_datetime(df[\"INVOICE_DATE\"])\n",
    "df = df[(df[\"AMOUNT\"] > 0) & (df[\"PRICE\"]>0)]"
   ]
  },
  {
   "cell_type": "markdown",
   "id": "ed497dc6-72b1-4f97-9163-33d0d64233db",
   "metadata": {},
   "source": [
    "The dataset has Price and Amount numeric features. I will take a look at outliers in these features with histogram graphic. "
   ]
  },
  {
   "cell_type": "code",
   "execution_count": 8,
   "id": "83b9dce0-6560-42f0-8e0d-5248b1313dd1",
   "metadata": {},
   "outputs": [
    {
     "data": {
      "text/plain": [
       "<AxesSubplot: >"
      ]
     },
     "execution_count": 8,
     "metadata": {},
     "output_type": "execute_result"
    },
    {
     "data": {
      "image/png": "[encoded data removed]",
      "text/plain": [
       "<Figure size 640x480 with 1 Axes>"
      ]
     },
     "metadata": {},
     "output_type": "display_data"
    }
   ],
   "source": [
    "sns.boxplot(df[\"PRICE\"], orient=\"h\",notch=True, showcaps=False)"
   ]
  },
  {
   "cell_type": "code",
   "execution_count": 9,
   "id": "b38b5c82-467b-470f-a746-fc949eafeb92",
   "metadata": {},
   "outputs": [
    {
     "data": {
      "text/plain": [
       "<AxesSubplot: >"
      ]
     },
     "execution_count": 9,
     "metadata": {},
     "output_type": "execute_result"
    },
    {
     "data": {
      "image/png": "[encoded data removed]",
      "text/plain": [
       "<Figure size 640x480 with 1 Axes>"
      ]
     },
     "metadata": {},
     "output_type": "display_data"
    }
   ],
   "source": [
    "sns.boxplot(df[\"AMOUNT\"], orient=\"h\",notch=True, showcaps=False)"
   ]
  },
  {
   "cell_type": "markdown",
   "id": "459c44e0-8fc9-42b7-8a45-0c57a4ae3408",
   "metadata": {},
   "source": [
    "To get more meaningfull boxplot graphics we have to get rid of outliers. Dealing with outliers is a necessary process for data analysis. Outliers, whether they are too big or too small compared to expected values, have big impact on statistical values like mean and standard deviation. Thus for better prediction and analysis, we have to examine outlier values. There are a few ways to deal with outliers, but for this project I will replace outliers with threshold values that are evaluated in (0.05-0.95) range quantiles. I will hold down outlier values and replace them with their threshold values.  "
   ]
  },
  {
   "cell_type": "code",
   "execution_count": 10,
   "id": "a3751ea2-c164-4392-88be-2adc4dd0b9fe",
   "metadata": {},
   "outputs": [],
   "source": [
    "def outlier_thresholds(dataframe, variable):\n",
    "    quartile1 = dataframe[variable].quantile(0.05)\n",
    "    quartile3 = dataframe[variable].quantile(0.95)\n",
    "    interquantile_range = quartile3 - quartile1\n",
    "    up_limit = quartile3 + 1.5 * interquantile_range\n",
    "    low_limit = quartile1 - 1.5 * interquantile_range\n",
    "    return low_limit, up_limit\n",
    "\n",
    "def replace_with_thresholds(dataframe, variable):\n",
    "    low_limit, up_limit = outlier_thresholds(dataframe, variable)\n",
    "    dataframe.loc[(dataframe[variable] > up_limit), variable] = up_limit\n",
    "replace_with_thresholds(df, \"AMOUNT\")\n",
    "replace_with_thresholds(df, \"PRICE\")"
   ]
  },
  {
   "cell_type": "markdown",
   "id": "9ace1d3f-5b10-4fca-8dea-ddb7d252f0ad",
   "metadata": {},
   "source": [
    "After replacing outliers with threshold values, let's look at the boxplots again."
   ]
  },
  {
   "cell_type": "code",
   "execution_count": 11,
   "id": "24e1a3b4-c49d-45f7-b032-55837d9d1795",
   "metadata": {},
   "outputs": [
    {
     "data": {
      "text/plain": [
       "<AxesSubplot: >"
      ]
     },
     "execution_count": 11,
     "metadata": {},
     "output_type": "execute_result"
    },
    {
     "data": {
      "image/png": "[encoded data removed]",
      "text/plain": [
       "<Figure size 640x480 with 1 Axes>"
      ]
     },
     "metadata": {},
     "output_type": "display_data"
    }
   ],
   "source": [
    "sns.boxplot(df[\"PRICE\"], orient=\"h\",notch=True, showcaps=False)"
   ]
  },
  {
   "cell_type": "code",
   "execution_count": 12,
   "id": "f6837aeb-b3c2-45b2-bf97-5965dc40687a",
   "metadata": {},
   "outputs": [
    {
     "data": {
      "text/plain": [
       "<AxesSubplot: >"
      ]
     },
     "execution_count": 12,
     "metadata": {},
     "output_type": "execute_result"
    },
    {
     "data": {
      "image/png": "[encoded data removed]",
      "text/plain": [
       "<Figure size 640x480 with 1 Axes>"
      ]
     },
     "metadata": {},
     "output_type": "display_data"
    }
   ],
   "source": [
    "sns.boxplot(df[\"AMOUNT\"], orient=\"h\",notch=True, showcaps=False)"
   ]
  },
  {
   "cell_type": "markdown",
   "id": "bf8c8914-a434-4d02-bfcf-f3de7953c2b3",
   "metadata": {},
   "source": [
    "Now the data distributions for Price and Amount features make more sense for our CLV project. "
   ]
  },
  {
   "cell_type": "markdown",
   "id": "ec42bddf-aae2-4897-a35e-93fb2fd715a9",
   "metadata": {},
   "source": [
    "I need an ending date for CLTV calculation. I will find the max date in my dataset, add 2 days to this date and will use it as the ending date in calculation"
   ]
  },
  {
   "cell_type": "code",
   "execution_count": 13,
   "id": "c93b758d-1edb-450c-aac3-59fce12955e1",
   "metadata": {},
   "outputs": [
    {
     "data": {
      "text/plain": [
       "Timestamp('2011-12-09 12:50:00')"
      ]
     },
     "execution_count": 13,
     "metadata": {},
     "output_type": "execute_result"
    }
   ],
   "source": [
    "df.INVOICE_DATE.max()"
   ]
  },
  {
   "cell_type": "code",
   "execution_count": 14,
   "id": "17909276-fc76-428a-97a0-9ac7403f1ef2",
   "metadata": {},
   "outputs": [
    {
     "data": {
      "text/plain": [
       "Timestamp('2011-12-11 12:50:00')"
      ]
     },
     "execution_count": 14,
     "metadata": {},
     "output_type": "execute_result"
    }
   ],
   "source": [
    "from datetime import timedelta\n",
    "today_date= df.INVOICE_DATE.max() + timedelta(days=2)\n",
    "today_date"
   ]
  },
  {
   "cell_type": "markdown",
   "id": "7ff56707-29a0-40e6-be67-1e7c10664fc8",
   "metadata": {},
   "source": [
    "We need Total Price feature to be able to calculate clv."
   ]
  },
  {
   "cell_type": "code",
   "execution_count": 15,
   "id": "f4e9b85e-7d44-418c-8a08-ad6a4323f7e0",
   "metadata": {},
   "outputs": [],
   "source": [
    "df[\"TOTAL_PRICE\"] = df[\"AMOUNT\"] * df[\"PRICE\"]"
   ]
  },
  {
   "cell_type": "markdown",
   "id": "cb7279cd-f692-4600-b2c3-aa3a92341e62",
   "metadata": {},
   "source": [
    "### Frequency, Recency, Tenure and Monetary values"
   ]
  },
  {
   "cell_type": "markdown",
   "id": "0e37e920-c04f-4c45-bd0e-e3d17205dee0",
   "metadata": {},
   "source": [
    "We need frequency, recency, tenure and monetary values for further calculations. We can calculate these values in a few steps but lifetimes library has already a function to calculate them easily. summary_data_from_transaction_data function gives us a dataframe with  frequency, recency, T and monetary_value columns. The function has \"freq\" feature that lets you to set a frequency. Options for \"freq\" are  \"D\" for daily,\"W\" fro weekly, \"M\" for monthly  and \"Y\" for yearly. I will set it to \"W\" to get weekly results.\n",
    "\n",
    "frequency: How often a customer makes a purchase\n",
    "\n",
    "recency: How recently a customer has made a purchase\n",
    "\n",
    "T(tenure) : The customer age(for how many years has the customer been our customer)\n",
    "\n",
    "monetary_value : Money value of the purchases"
   ]
  },
  {
   "cell_type": "code",
   "execution_count": 31,
   "id": "b59ce354-2986-40a6-b35c-15c1698ef632",
   "metadata": {},
   "outputs": [
    {
     "data": {
      "text/html": [
       "<div>\n",
       "<style scoped>\n",
       "    .dataframe tbody tr th:only-of-type {\n",
       "        vertical-align: middle;\n",
       "    }\n",
       "\n",
       "    .dataframe tbody tr th {\n",
       "        vertical-align: top;\n",
       "    }\n",
       "\n",
       "    .dataframe thead th {\n",
       "        text-align: right;\n",
       "    }\n",
       "</style>\n",
       "<table border=\"1\" class=\"dataframe\">\n",
       "  <thead>\n",
       "    <tr style=\"text-align: right;\">\n",
       "      <th></th>\n",
       "      <th>count</th>\n",
       "      <th>mean</th>\n",
       "      <th>std</th>\n",
       "      <th>min</th>\n",
       "      <th>25%</th>\n",
       "      <th>50%</th>\n",
       "      <th>75%</th>\n",
       "      <th>max</th>\n",
       "    </tr>\n",
       "  </thead>\n",
       "  <tbody>\n",
       "    <tr>\n",
       "      <th>frequency</th>\n",
       "      <td>4338.00</td>\n",
       "      <td>3.67</td>\n",
       "      <td>4.54</td>\n",
       "      <td>1.00</td>\n",
       "      <td>1.00</td>\n",
       "      <td>2.00</td>\n",
       "      <td>4.00</td>\n",
       "      <td>53.00</td>\n",
       "    </tr>\n",
       "    <tr>\n",
       "      <th>recency</th>\n",
       "      <td>4338.00</td>\n",
       "      <td>18.69</td>\n",
       "      <td>18.89</td>\n",
       "      <td>0.00</td>\n",
       "      <td>0.00</td>\n",
       "      <td>13.00</td>\n",
       "      <td>36.00</td>\n",
       "      <td>53.00</td>\n",
       "    </tr>\n",
       "    <tr>\n",
       "      <th>T</th>\n",
       "      <td>4338.00</td>\n",
       "      <td>31.63</td>\n",
       "      <td>16.83</td>\n",
       "      <td>0.00</td>\n",
       "      <td>16.00</td>\n",
       "      <td>35.00</td>\n",
       "      <td>46.00</td>\n",
       "      <td>53.00</td>\n",
       "    </tr>\n",
       "    <tr>\n",
       "      <th>monetary_value</th>\n",
       "      <td>4338.00</td>\n",
       "      <td>383.99</td>\n",
       "      <td>436.32</td>\n",
       "      <td>3.45</td>\n",
       "      <td>178.71</td>\n",
       "      <td>299.06</td>\n",
       "      <td>439.91</td>\n",
       "      <td>8803.60</td>\n",
       "    </tr>\n",
       "  </tbody>\n",
       "</table>\n",
       "</div>"
      ],
      "text/plain": [
       "                 count   mean    std  min    25%    50%    75%     max\n",
       "frequency      4338.00   3.67   4.54 1.00   1.00   2.00   4.00   53.00\n",
       "recency        4338.00  18.69  18.89 0.00   0.00  13.00  36.00   53.00\n",
       "T              4338.00  31.63  16.83 0.00  16.00  35.00  46.00   53.00\n",
       "monetary_value 4338.00 383.99 436.32 3.45 178.71 299.06 439.91 8803.60"
      ]
     },
     "execution_count": 31,
     "metadata": {},
     "output_type": "execute_result"
    }
   ],
   "source": [
    "cltv_df = summary_data_from_transaction_data(df, 'COMPANY_ID','INVOICE_DATE','TOTAL_PRICE', \n",
    "                                                 include_first_transaction=True,\n",
    "                                                 freq=\"W\",\n",
    "                                                observation_period_end = today_date)\n",
    "cltv_df.describe().T"
   ]
  },
  {
   "cell_type": "markdown",
   "id": "2f94ef0e-6344-4d2f-8678-99ca28f628b0",
   "metadata": {},
   "source": [
    "## Modeling and Evaluation"
   ]
  },
  {
   "cell_type": "markdown",
   "id": "bdd5370b-8171-441b-9607-0499b96d088f",
   "metadata": {},
   "source": [
    "BG-NBD stands for \"Beta Geometric/Negative Binomial Distribution\". The BG/NBD model is based on the historical purchase behavior of each customer to forecast his future activity. "
   ]
  },
  {
   "cell_type": "code",
   "execution_count": 38,
   "id": "64700366-af35-4ecc-87ea-113b785febcf",
   "metadata": {},
   "outputs": [
    {
     "data": {
      "text/html": [
       "<div>\n",
       "<style scoped>\n",
       "    .dataframe tbody tr th:only-of-type {\n",
       "        vertical-align: middle;\n",
       "    }\n",
       "\n",
       "    .dataframe tbody tr th {\n",
       "        vertical-align: top;\n",
       "    }\n",
       "\n",
       "    .dataframe thead th {\n",
       "        text-align: right;\n",
       "    }\n",
       "</style>\n",
       "<table border=\"1\" class=\"dataframe\">\n",
       "  <thead>\n",
       "    <tr style=\"text-align: right;\">\n",
       "      <th></th>\n",
       "      <th>COMPANY_ID</th>\n",
       "      <th>frequency</th>\n",
       "      <th>recency</th>\n",
       "      <th>T</th>\n",
       "      <th>monetary_value</th>\n",
       "      <th>clv</th>\n",
       "    </tr>\n",
       "  </thead>\n",
       "  <tbody>\n",
       "    <tr>\n",
       "      <th>1689</th>\n",
       "      <td>14646.00</td>\n",
       "      <td>30.00</td>\n",
       "      <td>50.00</td>\n",
       "      <td>50.00</td>\n",
       "      <td>6658.81</td>\n",
       "      <td>59074.16</td>\n",
       "    </tr>\n",
       "    <tr>\n",
       "      <th>1289</th>\n",
       "      <td>14096.00</td>\n",
       "      <td>15.00</td>\n",
       "      <td>14.00</td>\n",
       "      <td>14.00</td>\n",
       "      <td>3554.60</td>\n",
       "      <td>40457.57</td>\n",
       "    </tr>\n",
       "    <tr>\n",
       "      <th>4201</th>\n",
       "      <td>18102.00</td>\n",
       "      <td>21.00</td>\n",
       "      <td>52.00</td>\n",
       "      <td>52.00</td>\n",
       "      <td>5840.23</td>\n",
       "      <td>36266.71</td>\n",
       "    </tr>\n",
       "    <tr>\n",
       "      <th>1879</th>\n",
       "      <td>14911.00</td>\n",
       "      <td>48.00</td>\n",
       "      <td>53.00</td>\n",
       "      <td>53.00</td>\n",
       "      <td>2756.06</td>\n",
       "      <td>36262.66</td>\n",
       "    </tr>\n",
       "    <tr>\n",
       "      <th>55</th>\n",
       "      <td>12415.00</td>\n",
       "      <td>14.00</td>\n",
       "      <td>45.00</td>\n",
       "      <td>48.00</td>\n",
       "      <td>6236.27</td>\n",
       "      <td>28507.88</td>\n",
       "    </tr>\n",
       "  </tbody>\n",
       "</table>\n",
       "</div>"
      ],
      "text/plain": [
       "      COMPANY_ID  frequency  recency     T  monetary_value      clv\n",
       "1689    14646.00      30.00    50.00 50.00         6658.81 59074.16\n",
       "1289    14096.00      15.00    14.00 14.00         3554.60 40457.57\n",
       "4201    18102.00      21.00    52.00 52.00         5840.23 36266.71\n",
       "1879    14911.00      48.00    53.00 53.00         2756.06 36262.66\n",
       "55      12415.00      14.00    45.00 48.00         6236.27 28507.88"
      ]
     },
     "execution_count": 38,
     "metadata": {},
     "output_type": "execute_result"
    }
   ],
   "source": [
    "bgf = BetaGeoFitter(penalizer_coef=0.001)\n",
    "bgf.fit(cltv_df['frequency'],\n",
    "        cltv_df['recency'],\n",
    "        cltv_df['T'])\n",
    "\n",
    "ggf = GammaGammaFitter(penalizer_coef=0.01)\n",
    "ggf.fit(cltv_df['frequency'], cltv_df['monetary_value'])\n",
    "\n",
    "cltv = ggf.customer_lifetime_value(bgf,\n",
    "                                   cltv_df['frequency'],\n",
    "                                   cltv_df['recency'],\n",
    "                                   cltv_df['T'],\n",
    "                                   cltv_df['monetary_value'],\n",
    "                                   time=4,  # 1 yıllık\n",
    "                                   freq=\"W\",  # T'nin frekans bilgisi, haftalık:W\n",
    "                                   discount_rate=0.01)\n",
    "cltv=cltv.reset_index()\n",
    "cltv_final= cltv_df.merge(cltv, on=\"COMPANY_ID\", how=\"left\")\n",
    "cltv_final.sort_values('clv', ascending=False).head()"
   ]
  },
  {
   "cell_type": "markdown",
   "id": "e6192ce5-ab34-4c30-8c75-f5b0d69da447",
   "metadata": {
    "tags": []
   },
   "source": [
    "## Segmentation according to CLTV values"
   ]
  },
  {
   "cell_type": "markdown",
   "id": "7a345a7c-d2c8-4fe8-87f7-8152b9a5b64e",
   "metadata": {},
   "source": [
    "I will create segments based on CLV values."
   ]
  },
  {
   "cell_type": "code",
   "execution_count": 35,
   "id": "1050c4bc-6de0-4ff1-8d73-9e069ab720df",
   "metadata": {
    "tags": []
   },
   "outputs": [
    {
     "data": {
      "text/html": [
       "<div>\n",
       "<style scoped>\n",
       "    .dataframe tbody tr th:only-of-type {\n",
       "        vertical-align: middle;\n",
       "    }\n",
       "\n",
       "    .dataframe tbody tr th {\n",
       "        vertical-align: top;\n",
       "    }\n",
       "\n",
       "    .dataframe thead th {\n",
       "        text-align: right;\n",
       "    }\n",
       "</style>\n",
       "<table border=\"1\" class=\"dataframe\">\n",
       "  <thead>\n",
       "    <tr style=\"text-align: right;\">\n",
       "      <th></th>\n",
       "      <th>COMPANY_ID</th>\n",
       "      <th>frequency</th>\n",
       "      <th>recency</th>\n",
       "      <th>T</th>\n",
       "      <th>monetary_value</th>\n",
       "      <th>clv</th>\n",
       "      <th>segment</th>\n",
       "    </tr>\n",
       "  </thead>\n",
       "  <tbody>\n",
       "    <tr>\n",
       "      <th>1689</th>\n",
       "      <td>14646.00</td>\n",
       "      <td>30.00</td>\n",
       "      <td>50.00</td>\n",
       "      <td>50.00</td>\n",
       "      <td>6658.81</td>\n",
       "      <td>59074.16</td>\n",
       "      <td>A</td>\n",
       "    </tr>\n",
       "    <tr>\n",
       "      <th>1289</th>\n",
       "      <td>14096.00</td>\n",
       "      <td>15.00</td>\n",
       "      <td>14.00</td>\n",
       "      <td>14.00</td>\n",
       "      <td>3554.60</td>\n",
       "      <td>40457.57</td>\n",
       "      <td>A</td>\n",
       "    </tr>\n",
       "    <tr>\n",
       "      <th>4201</th>\n",
       "      <td>18102.00</td>\n",
       "      <td>21.00</td>\n",
       "      <td>52.00</td>\n",
       "      <td>52.00</td>\n",
       "      <td>5840.23</td>\n",
       "      <td>36266.71</td>\n",
       "      <td>A</td>\n",
       "    </tr>\n",
       "    <tr>\n",
       "      <th>1879</th>\n",
       "      <td>14911.00</td>\n",
       "      <td>48.00</td>\n",
       "      <td>53.00</td>\n",
       "      <td>53.00</td>\n",
       "      <td>2756.06</td>\n",
       "      <td>36262.66</td>\n",
       "      <td>A</td>\n",
       "    </tr>\n",
       "    <tr>\n",
       "      <th>55</th>\n",
       "      <td>12415.00</td>\n",
       "      <td>14.00</td>\n",
       "      <td>45.00</td>\n",
       "      <td>48.00</td>\n",
       "      <td>6236.27</td>\n",
       "      <td>28507.88</td>\n",
       "      <td>A</td>\n",
       "    </tr>\n",
       "  </tbody>\n",
       "</table>\n",
       "</div>"
      ],
      "text/plain": [
       "      COMPANY_ID  frequency  recency     T  monetary_value      clv segment\n",
       "1689    14646.00      30.00    50.00 50.00         6658.81 59074.16       A\n",
       "1289    14096.00      15.00    14.00 14.00         3554.60 40457.57       A\n",
       "4201    18102.00      21.00    52.00 52.00         5840.23 36266.71       A\n",
       "1879    14911.00      48.00    53.00 53.00         2756.06 36262.66       A\n",
       "55      12415.00      14.00    45.00 48.00         6236.27 28507.88       A"
      ]
     },
     "execution_count": 35,
     "metadata": {},
     "output_type": "execute_result"
    }
   ],
   "source": [
    "cltv_final[\"segment\"] = pd.qcut(cltv_final[\"clv\"], 4, labels=[\"D\", \"C\", \"B\", \"A\"])\n",
    "cltv_final.sort_values('clv', ascending=False).head()"
   ]
  },
  {
   "cell_type": "code",
   "execution_count": 36,
   "id": "450552d4-82a2-49be-928d-511442198509",
   "metadata": {},
   "outputs": [
    {
     "data": {
      "text/html": [
       "<div>\n",
       "<style scoped>\n",
       "    .dataframe tbody tr th:only-of-type {\n",
       "        vertical-align: middle;\n",
       "    }\n",
       "\n",
       "    .dataframe tbody tr th {\n",
       "        vertical-align: top;\n",
       "    }\n",
       "\n",
       "    .dataframe thead th {\n",
       "        text-align: right;\n",
       "    }\n",
       "</style>\n",
       "<table border=\"1\" class=\"dataframe\">\n",
       "  <thead>\n",
       "    <tr style=\"text-align: right;\">\n",
       "      <th></th>\n",
       "      <th>COMPANY_ID</th>\n",
       "      <th>frequency</th>\n",
       "      <th>recency</th>\n",
       "      <th>T</th>\n",
       "      <th>monetary_value</th>\n",
       "      <th>clv</th>\n",
       "      <th>segment</th>\n",
       "    </tr>\n",
       "  </thead>\n",
       "  <tbody>\n",
       "    <tr>\n",
       "      <th>3441</th>\n",
       "      <td>17043.00</td>\n",
       "      <td>4.00</td>\n",
       "      <td>34.00</td>\n",
       "      <td>38.00</td>\n",
       "      <td>433.80</td>\n",
       "      <td>911.31</td>\n",
       "      <td>B</td>\n",
       "    </tr>\n",
       "    <tr>\n",
       "      <th>1512</th>\n",
       "      <td>14412.00</td>\n",
       "      <td>2.00</td>\n",
       "      <td>4.00</td>\n",
       "      <td>10.00</td>\n",
       "      <td>381.60</td>\n",
       "      <td>909.32</td>\n",
       "      <td>B</td>\n",
       "    </tr>\n",
       "    <tr>\n",
       "      <th>886</th>\n",
       "      <td>13527.00</td>\n",
       "      <td>6.00</td>\n",
       "      <td>41.00</td>\n",
       "      <td>46.00</td>\n",
       "      <td>381.25</td>\n",
       "      <td>908.65</td>\n",
       "      <td>B</td>\n",
       "    </tr>\n",
       "    <tr>\n",
       "      <th>1738</th>\n",
       "      <td>14712.00</td>\n",
       "      <td>3.00</td>\n",
       "      <td>12.00</td>\n",
       "      <td>16.00</td>\n",
       "      <td>305.69</td>\n",
       "      <td>908.46</td>\n",
       "      <td>B</td>\n",
       "    </tr>\n",
       "    <tr>\n",
       "      <th>730</th>\n",
       "      <td>13317.00</td>\n",
       "      <td>4.00</td>\n",
       "      <td>42.00</td>\n",
       "      <td>51.00</td>\n",
       "      <td>568.42</td>\n",
       "      <td>908.42</td>\n",
       "      <td>B</td>\n",
       "    </tr>\n",
       "  </tbody>\n",
       "</table>\n",
       "</div>"
      ],
      "text/plain": [
       "      COMPANY_ID  frequency  recency     T  monetary_value    clv segment\n",
       "3441    17043.00       4.00    34.00 38.00          433.80 911.31       B\n",
       "1512    14412.00       2.00     4.00 10.00          381.60 909.32       B\n",
       "886     13527.00       6.00    41.00 46.00          381.25 908.65       B\n",
       "1738    14712.00       3.00    12.00 16.00          305.69 908.46       B\n",
       "730     13317.00       4.00    42.00 51.00          568.42 908.42       B"
      ]
     },
     "execution_count": 36,
     "metadata": {},
     "output_type": "execute_result"
    }
   ],
   "source": [
    "cltv_final[cltv_final[\"segment\"] ==\"B\"].sort_values('clv', ascending=False).head()"
   ]
  },
  {
   "cell_type": "markdown",
   "id": "d4219572-b0f5-4c90-a4f5-39dc865221f5",
   "metadata": {},
   "source": [
    "Son 10 daki müşteriler:\n",
    "(CLV değeri çok çok düşük olan müşterilerin CLV değerini görebilmek için virgülden sonraki 10 basamağı görmek istiyorum)"
   ]
  },
  {
   "cell_type": "code",
   "execution_count": 37,
   "id": "f6d20dc3-879d-4370-b292-7d3156d6d5e3",
   "metadata": {
    "tags": []
   },
   "outputs": [
    {
     "data": {
      "text/html": [
       "<div>\n",
       "<style scoped>\n",
       "    .dataframe tbody tr th:only-of-type {\n",
       "        vertical-align: middle;\n",
       "    }\n",
       "\n",
       "    .dataframe tbody tr th {\n",
       "        vertical-align: top;\n",
       "    }\n",
       "\n",
       "    .dataframe thead th {\n",
       "        text-align: right;\n",
       "    }\n",
       "</style>\n",
       "<table border=\"1\" class=\"dataframe\">\n",
       "  <thead>\n",
       "    <tr style=\"text-align: right;\">\n",
       "      <th></th>\n",
       "      <th>COMPANY_ID</th>\n",
       "      <th>frequency</th>\n",
       "      <th>recency</th>\n",
       "      <th>T</th>\n",
       "      <th>monetary_value</th>\n",
       "      <th>clv</th>\n",
       "      <th>segment</th>\n",
       "    </tr>\n",
       "  </thead>\n",
       "  <tbody>\n",
       "    <tr>\n",
       "      <th>3451</th>\n",
       "      <td>17053.00</td>\n",
       "      <td>1.00</td>\n",
       "      <td>0.00</td>\n",
       "      <td>18.00</td>\n",
       "      <td>498.48</td>\n",
       "      <td>78.18</td>\n",
       "      <td>D</td>\n",
       "    </tr>\n",
       "    <tr>\n",
       "      <th>299</th>\n",
       "      <td>12715.00</td>\n",
       "      <td>1.00</td>\n",
       "      <td>0.00</td>\n",
       "      <td>15.00</td>\n",
       "      <td>315.10</td>\n",
       "      <td>78.18</td>\n",
       "      <td>D</td>\n",
       "    </tr>\n",
       "    <tr>\n",
       "      <th>2429</th>\n",
       "      <td>15653.00</td>\n",
       "      <td>2.00</td>\n",
       "      <td>3.00</td>\n",
       "      <td>16.00</td>\n",
       "      <td>87.72</td>\n",
       "      <td>78.11</td>\n",
       "      <td>D</td>\n",
       "    </tr>\n",
       "    <tr>\n",
       "      <th>2841</th>\n",
       "      <td>16213.00</td>\n",
       "      <td>1.00</td>\n",
       "      <td>0.00</td>\n",
       "      <td>11.00</td>\n",
       "      <td>159.00</td>\n",
       "      <td>77.82</td>\n",
       "      <td>D</td>\n",
       "    </tr>\n",
       "    <tr>\n",
       "      <th>4188</th>\n",
       "      <td>18084.00</td>\n",
       "      <td>1.00</td>\n",
       "      <td>0.00</td>\n",
       "      <td>2.00</td>\n",
       "      <td>25.66</td>\n",
       "      <td>77.48</td>\n",
       "      <td>D</td>\n",
       "    </tr>\n",
       "  </tbody>\n",
       "</table>\n",
       "</div>"
      ],
      "text/plain": [
       "      COMPANY_ID  frequency  recency     T  monetary_value   clv segment\n",
       "3451    17053.00       1.00     0.00 18.00          498.48 78.18       D\n",
       "299     12715.00       1.00     0.00 15.00          315.10 78.18       D\n",
       "2429    15653.00       2.00     3.00 16.00           87.72 78.11       D\n",
       "2841    16213.00       1.00     0.00 11.00          159.00 77.82       D\n",
       "4188    18084.00       1.00     0.00  2.00           25.66 77.48       D"
      ]
     },
     "execution_count": 37,
     "metadata": {},
     "output_type": "execute_result"
    }
   ],
   "source": [
    "cltv_final[cltv_final[\"segment\"] ==\"D\"].sort_values('clv', ascending=False).head()"
   ]
  },
  {
   "cell_type": "markdown",
   "id": "5fc7bd08-67c4-41e2-8400-815058a9ab81",
   "metadata": {},
   "source": [
    "## Further Insights"
   ]
  },
  {
   "cell_type": "markdown",
   "id": "98d71730-b1b2-4c56-9df3-ad03490affe7",
   "metadata": {
    "tags": []
   },
   "source": [
    "### Expected number of purchases with BG-NBD Model"
   ]
  },
  {
   "cell_type": "markdown",
   "id": "af0135a9-a3cd-49c5-9b61-836305a486c3",
   "metadata": {},
   "source": [
    "Fitting BetaGeoFitter model is enough for further steps of CLTV prediction. But I will apply some other functions on this model to have more insights about future purchases."
   ]
  },
  {
   "cell_type": "code",
   "execution_count": 18,
   "id": "dd755d18-0b3e-4672-b883-ad3edcc6e32c",
   "metadata": {},
   "outputs": [
    {
     "data": {
      "text/plain": [
       "<AxesSubplot: title={'center': 'Expected Number of Future Purchases for 1 Unit of Time,\\nby Frequency and Recency of a Customer'}, xlabel=\"Customer's Historical Frequency\", ylabel=\"Customer's Recency\">"
      ]
     },
     "execution_count": 18,
     "metadata": {},
     "output_type": "execute_result"
    },
    {
     "data": {
      "image/png": "[encoded data removed]",
      "text/plain": [
       "<Figure size 640x480 with 2 Axes>"
      ]
     },
     "metadata": {},
     "output_type": "display_data"
    }
   ],
   "source": [
    "from lifetimes.plotting import plot_frequency_recency_matrix\n",
    "plot_frequency_recency_matrix(bgf,max_frequency=50, max_recency=50)"
   ]
  },
  {
   "cell_type": "code",
   "execution_count": 19,
   "id": "6e141b39-02aa-4acb-aecd-78e400f49d57",
   "metadata": {},
   "outputs": [
    {
     "data": {
      "text/plain": [
       "<AxesSubplot: title={'center': 'Probability Customer is Alive,\\nby Frequency and Recency of a Customer'}, xlabel=\"Customer's Historical Frequency\", ylabel=\"Customer's Recency\">"
      ]
     },
     "execution_count": 19,
     "metadata": {},
     "output_type": "execute_result"
    },
    {
     "data": {
      "image/png": "[encoded data removed]",
      "text/plain": [
       "<Figure size 640x480 with 2 Axes>"
      ]
     },
     "metadata": {},
     "output_type": "display_data"
    }
   ],
   "source": [
    "from lifetimes.plotting import plot_probability_alive_matrix\n",
    "plot_probability_alive_matrix(bgf)"
   ]
  },
  {
   "cell_type": "markdown",
   "id": "b1d871b0-7e88-4799-b493-b8044430ae3b",
   "metadata": {},
   "source": [
    "The customers who have higher recency and higher frequency are expected to purchase more products. As frequency increases if recency is low the probability of being alive is also low, if recency is high then the probability of being alive is higher. Actually to see the probability of being alive specific to each customer will be clarifying the second graph better."
   ]
  },
  {
   "cell_type": "markdown",
   "id": "681a161a-77b4-43a0-8410-aa2e51548912",
   "metadata": {
    "tags": []
   },
   "source": [
    "### Purchase Latency"
   ]
  },
  {
   "cell_type": "markdown",
   "id": "279e5e43-17c2-4b0a-9ba1-a20cc73aa87f",
   "metadata": {},
   "source": [
    "\n",
    "Purchase latency is a measure of the number of days between a customer’s orders. After the first order p_alive starts to occur for each customer. \n",
    "\n",
    "The average of the elapsed time between orders is recalculated for each order, resulting in a different p_alive. \n",
    "\n",
    "If a customer orders after a long time, that is much more than the previous average time interval, the rate of decrease of p_alive value decreases in the next long interval. In other words the probability of being alive decreases more slowly. And then the average time interval and probability of being alive function is calculated again. This holds on again and again as long as customer goes on puschasing.\n"
   ]
  },
  {
   "cell_type": "code",
   "execution_count": 20,
   "id": "3ec3d734-2ddd-4df0-9bbb-9d85c9c06f90",
   "metadata": {},
   "outputs": [
    {
     "data": {
      "text/plain": [
       "<AxesSubplot: title={'center': 'History of P_alive'}, ylabel='P_alive'>"
      ]
     },
     "execution_count": 20,
     "metadata": {},
     "output_type": "execute_result"
    },
    {
     "data": {
      "image/png": "[encoded data removed]",
      "text/plain": [
       "<Figure size 800x320 with 1 Axes>"
      ]
     },
     "metadata": {},
     "output_type": "display_data"
    }
   ],
   "source": [
    "from matplotlib.pyplot import figure\n",
    "from lifetimes.plotting import plot_history_alive\n",
    "figure(num=None, figsize=(10, 4), dpi=80, facecolor='w', edgecolor='k')\n",
    "days_since_birth = 700\n",
    "plot_history_alive(bgf, days_since_birth, df.loc[df[\"COMPANY_ID\"] == 12352.00], 'INVOICE_DATE')"
   ]
  },
  {
   "cell_type": "markdown",
   "id": "c9d508de-5d52-4c61-9384-a612d4639bcd",
   "metadata": {},
   "source": [
    "I will calculate expected number of purchases by using BG/NBD model and add to my dataframe."
   ]
  },
  {
   "cell_type": "code",
   "execution_count": 21,
   "id": "6797833f-4a94-4d7a-9bc4-dfeef3d93d85",
   "metadata": {},
   "outputs": [],
   "source": [
    "cltv_df[\"expected_purc_1_month\"] = bgf.conditional_expected_number_of_purchases_up_to_time(4,\n",
    "                                               cltv_df['frequency'],\n",
    "                                               cltv_df['recency'],\n",
    "                                               cltv_df['T'])"
   ]
  },
  {
   "cell_type": "markdown",
   "id": "d6fbab10-e81a-4375-863a-ba4081c90361",
   "metadata": {
    "tags": []
   },
   "source": [
    "### Testing purchase predictions with holdout group"
   ]
  },
  {
   "cell_type": "code",
   "execution_count": 39,
   "id": "fc0b5bc2-532e-47b9-9515-3710d1503817",
   "metadata": {},
   "outputs": [
    {
     "name": "stderr",
     "output_type": "stream",
     "text": [
      "C:\\Users\\nesrin.ozcan\\AppData\\Roaming\\Python\\Python39\\site-packages\\pandas\\core\\arraylike.py:405: RuntimeWarning: invalid value encountered in log\n",
      "  result = getattr(ufunc, method)(*inputs, **kwargs)\n"
     ]
    },
    {
     "data": {
      "text/plain": [
       "<AxesSubplot: title={'center': 'Actual Purchases in Holdout Period vs Predicted Purchases'}, xlabel='Purchases in calibration period', ylabel='Average of Purchases in Holdout Period'>"
      ]
     },
     "execution_count": 39,
     "metadata": {},
     "output_type": "execute_result"
    },
    {
     "data": {
      "image/png": "[encoded data removed]",
      "text/plain": [
       "<Figure size 640x480 with 1 Axes>"
      ]
     },
     "metadata": {},
     "output_type": "display_data"
    }
   ],
   "source": [
    "from lifetimes.utils import calibration_and_holdout_data\n",
    "from lifetimes.plotting import plot_calibration_purchases_vs_holdout_purchases\n",
    "\n",
    "summary_cal_holdout = calibration_and_holdout_data(df, \n",
    "                                                   'COMPANY_ID', \n",
    "                                                   'INVOICE_DATE',\n",
    "                                                    calibration_period_end='2011-08-01',\n",
    "                                                    observation_period_end=today_date)\n",
    "bgf.fit(summary_cal_holdout['frequency_cal'], \n",
    "       summary_cal_holdout['recency_cal'], \n",
    "      summary_cal_holdout['T_cal'],\n",
    "       tol=1e-04)\n",
    "\n",
    "plot_calibration_purchases_vs_holdout_purchases(bgf, summary_cal_holdout)"
   ]
  },
  {
   "cell_type": "markdown",
   "id": "5197f4f6-d25d-4de4-97ea-39b409e09ef1",
   "metadata": {
    "tags": []
   },
   "source": [
    "### GAMMA-GAMMA Model"
   ]
  },
  {
   "cell_type": "markdown",
   "id": "bc62507a-605f-4a9b-9d82-ac6e7a243a48",
   "metadata": {},
   "source": [
    "I will use Gamma-Gamma Model's conditional_expected_average_profit function that calculates predicted average profit per transaction for each customer"
   ]
  },
  {
   "cell_type": "code",
   "execution_count": 23,
   "id": "131bbfc1-8a51-45ac-8782-77c7b5193f0e",
   "metadata": {},
   "outputs": [
    {
     "data": {
      "text/html": [
       "<div>\n",
       "<style scoped>\n",
       "    .dataframe tbody tr th:only-of-type {\n",
       "        vertical-align: middle;\n",
       "    }\n",
       "\n",
       "    .dataframe tbody tr th {\n",
       "        vertical-align: top;\n",
       "    }\n",
       "\n",
       "    .dataframe thead th {\n",
       "        text-align: right;\n",
       "    }\n",
       "</style>\n",
       "<table border=\"1\" class=\"dataframe\">\n",
       "  <thead>\n",
       "    <tr style=\"text-align: right;\">\n",
       "      <th></th>\n",
       "      <th>frequency</th>\n",
       "      <th>recency</th>\n",
       "      <th>T</th>\n",
       "      <th>monetary_value</th>\n",
       "      <th>expected_purc_1_month</th>\n",
       "      <th>expected_average_profit</th>\n",
       "    </tr>\n",
       "    <tr>\n",
       "      <th>COMPANY_ID</th>\n",
       "      <th></th>\n",
       "      <th></th>\n",
       "      <th></th>\n",
       "      <th></th>\n",
       "      <th></th>\n",
       "      <th></th>\n",
       "    </tr>\n",
       "  </thead>\n",
       "  <tbody>\n",
       "    <tr>\n",
       "      <th>12346.00</th>\n",
       "      <td>1.00</td>\n",
       "      <td>0.00</td>\n",
       "      <td>46.00</td>\n",
       "      <td>92.04</td>\n",
       "      <td>0.00</td>\n",
       "      <td>115.69</td>\n",
       "    </tr>\n",
       "    <tr>\n",
       "      <th>12347.00</th>\n",
       "      <td>7.00</td>\n",
       "      <td>52.00</td>\n",
       "      <td>52.00</td>\n",
       "      <td>593.21</td>\n",
       "      <td>0.59</td>\n",
       "      <td>608.73</td>\n",
       "    </tr>\n",
       "    <tr>\n",
       "      <th>12348.00</th>\n",
       "      <td>4.00</td>\n",
       "      <td>40.00</td>\n",
       "      <td>51.00</td>\n",
       "      <td>353.80</td>\n",
       "      <td>0.36</td>\n",
       "      <td>370.71</td>\n",
       "    </tr>\n",
       "    <tr>\n",
       "      <th>12349.00</th>\n",
       "      <td>1.00</td>\n",
       "      <td>0.00</td>\n",
       "      <td>2.00</td>\n",
       "      <td>1458.84</td>\n",
       "      <td>0.58</td>\n",
       "      <td>1767.43</td>\n",
       "    </tr>\n",
       "    <tr>\n",
       "      <th>12350.00</th>\n",
       "      <td>1.00</td>\n",
       "      <td>0.00</td>\n",
       "      <td>44.00</td>\n",
       "      <td>315.02</td>\n",
       "      <td>0.00</td>\n",
       "      <td>385.15</td>\n",
       "    </tr>\n",
       "  </tbody>\n",
       "</table>\n",
       "</div>"
      ],
      "text/plain": [
       "            frequency  recency     T  monetary_value  expected_purc_1_month  expected_average_profit\n",
       "COMPANY_ID                                                                                          \n",
       "12346.00         1.00     0.00 46.00           92.04                   0.00                   115.69\n",
       "12347.00         7.00    52.00 52.00          593.21                   0.59                   608.73\n",
       "12348.00         4.00    40.00 51.00          353.80                   0.36                   370.71\n",
       "12349.00         1.00     0.00  2.00         1458.84                   0.58                  1767.43\n",
       "12350.00         1.00     0.00 44.00          315.02                   0.00                   385.15"
      ]
     },
     "execution_count": 23,
     "metadata": {},
     "output_type": "execute_result"
    }
   ],
   "source": [
    "ggf = GammaGammaFitter(penalizer_coef=0.01)\n",
    "ggf.fit(cltv_df['frequency'], cltv_df['monetary_value'])\n",
    "cltv_df[\"expected_average_profit\"] = ggf.conditional_expected_average_profit(cltv_df['frequency'],\n",
    "                                                                               cltv_df['monetary_value'])\n",
    "cltv_df.head()"
   ]
  },
  {
   "cell_type": "markdown",
   "id": "04edc1d6-7d07-4a58-be19-c9d9d3ee62d4",
   "metadata": {},
   "source": [
    "## Conclusion"
   ]
  },
  {
   "cell_type": "markdown",
   "id": "90c7c262-e479-4d88-b268-e9629177a60a",
   "metadata": {},
   "source": [
    "In conclusion, I have predicted clv, expected number of purchases and expected average profit for each curtomer for the next 4 weeks. Being aware of your best customers and who is likely to churn might be useful to create different marketing strategies for different segments of customers.  "
   ]
  },
  {
   "cell_type": "code",
   "execution_count": null,
   "id": "6f912093-7c09-4c08-869f-0d905ac1ab5d",
   "metadata": {},
   "outputs": [],
   "source": []
  }
 ],
 "metadata": {
  "kernelspec": {
   "display_name": "Python 3 (ipykernel)",
   "language": "python",
   "name": "python3"
  },
  "language_info": {
   "codemirror_mode": {
    "name": "ipython",
    "version": 3
   },
   "file_extension": ".py",
   "mimetype": "text/x-python",
   "name": "python",
   "nbconvert_exporter": "python",
   "pygments_lexer": "ipython3",
   "version": "3.9.12"
  },
  "toc-autonumbering": false,
  "toc-showcode": false,
  "toc-showmarkdowntxt": false,
  "toc-showtags": false
 },
 "nbformat": 4,
 "nbformat_minor": 5
}
